{
  "nbformat": 4,
  "nbformat_minor": 0,
  "metadata": {
    "colab": {
      "provenance": [],
      "authorship_tag": "ABX9TyOSv2p/qtfYhtDdh8eOJgYJ",
      "include_colab_link": true
    },
    "kernelspec": {
      "name": "python3",
      "display_name": "Python 3"
    },
    "language_info": {
      "name": "python"
    }
  },
  "cells": [
    {
      "cell_type": "markdown",
      "metadata": {
        "id": "view-in-github",
        "colab_type": "text"
      },
      "source": [
        "<a href=\"https://colab.research.google.com/github/YamRfl/arquivos_aulas_LinguagemProgramacao/blob/main/Aula01_IntroducaoAlgoritmosPython.ipynb\" target=\"_parent\"><img src=\"https://colab.research.google.com/assets/colab-badge.svg\" alt=\"Open In Colab\"/></a>"
      ]
    },
    {
      "cell_type": "markdown",
      "source": [
        "# **Primeiros passos com Python**\n",
        "\n",
        "Vamos realizar os primeiros códigos com a linguagem Python para observar o funcionamento das etapas:\n",
        "\n",
        "1. Entrada\n",
        "2. Processamento\n",
        "3. Saída\n",
        "4. Comentários"
      ],
      "metadata": {
        "id": "gr_lmMHrttHy"
      }
    },
    {
      "cell_type": "markdown",
      "source": [
        "## EXERCÍCIO 1 - Um Bom Programa Inicial\n",
        "O primeiro passo para usar linhas de código em alguma linguagem (saída de dados)"
      ],
      "metadata": {
        "id": "u4bN1klJu2cZ"
      }
    },
    {
      "cell_type": "code",
      "source": [
        "print(\"Hello World!\")\n",
        "print(\"Hello Again.\")\n",
        "\n",
        "print(\"I like Typing this.\")\n",
        "print(\"Yay! Printing.\")\n",
        "\n",
        "print(\"I'd much rather you not.\")\n",
        "print(\"I said do not touch this\")\n",
        "\n"
      ],
      "metadata": {
        "colab": {
          "base_uri": "https://localhost:8080/"
        },
        "id": "fQArzgccypmp",
        "outputId": "a85f6b07-96c6-4896-87a1-1b98e6b9c203"
      },
      "execution_count": null,
      "outputs": [
        {
          "output_type": "stream",
          "name": "stdout",
          "text": [
            "Hello World!\n",
            "Hello Again.\n",
            "I like Typing this.\n",
            "Yay! Printing.\n",
            "I'd much rather you not.\n",
            "I said do not touch this\n"
          ]
        }
      ]
    },
    {
      "cell_type": "markdown",
      "source": [
        "#EXERCÍCIO 2 - Comentários e  Cerquilhas\n",
        "Compreender o uso de comentários para minhas linhas de código;"
      ],
      "metadata": {
        "id": "PhK3ldF45WZw"
      }
    },
    {
      "cell_type": "code",
      "source": [
        "# Um comentário, assim você pode ler seu programa mais tarde.\n",
        "# Qulquer coisa depois de # é ignorada pelo Python.\n",
        "\n",
        "print(\"I could have code like this\") # e o comentário depois ignorado\n",
        "\n",
        "# Você também pode usar um comentário para desabilitar um código:\n",
        "#print(\"This won't run\")\n",
        "\n",
        "print('This will run')\n"
      ],
      "metadata": {
        "colab": {
          "base_uri": "https://localhost:8080/"
        },
        "id": "fetlCwkB5wZg",
        "outputId": "d6a7660d-f73e-46eb-a4d5-2da78b3cb50a"
      },
      "execution_count": null,
      "outputs": [
        {
          "output_type": "stream",
          "name": "stdout",
          "text": [
            "I could have code like this\n",
            "This will run\n"
          ]
        }
      ]
    },
    {
      "cell_type": "markdown",
      "source": [
        "# EXERCÍCIO 3 - Números e Matemática"
      ],
      "metadata": {
        "id": "PR9gCd6S8ABv"
      }
    },
    {
      "cell_type": "code",
      "source": [
        "#inicia com um texto sobre o que sera feito no resto do programa\n",
        "print(\"I will now count my chickens:\")\n",
        "#irá concatenar o texto entre aspas com o resultado das operações após vírgulas\n",
        "print(\"Hens\", 25 +30 / 6)\n",
        "print(\"Roosters\", 100 - 25 * 3 % 4)\n",
        "#inicia com um texto sobre o que sera feito no resto do programa\n",
        "print(\"Now I will count the eggs:\")\n",
        "#irá realizar uma operação matemática\n",
        "print(3 + 2 + 1 - 5 + 4 % 2 -1 / 4 + 6)\n",
        "#inicia com um texto sobre o que sera feito no resto do programa\n",
        "print(\"Is it true that 3 + 2 < 5 -7?\")\n",
        "#realizar uma operaração relacionando em que o resultado é booleano\n",
        "print(3 + 2 < 5 - 7)\n",
        "#inicia com um texto sobre o que sera feito no resto do programa\n",
        "print(\"What is 3 + 2?\", 3 + 2)\n",
        "print(\"What is 5 - 7?\", 5 - 7)\n",
        "#inicia com um texto sobre o que sera feito no resto do programa\n",
        "print(\"Oh, that's why it's False.\")\n",
        "#inicia com um texto sobre o que sera feito no resto do programa\n",
        "print(\"How About some more.\")\n",
        "#texto com operações relacionais\n",
        "print(\"Is is greater?\", 5 > -2)\n",
        "print(\"Is is greater or equal?\", 5 >= -2)\n",
        "print(\"Is is less or equal?\", 5 <= -2)"
      ],
      "metadata": {
        "colab": {
          "base_uri": "https://localhost:8080/"
        },
        "id": "fPVWq_kN8NY3",
        "outputId": "a1ac66d1-e0da-4cd5-c0de-82a9cfd3e2dd"
      },
      "execution_count": null,
      "outputs": [
        {
          "output_type": "stream",
          "name": "stdout",
          "text": [
            "I will now count my chickens:\n",
            "Hens 30.0\n",
            "Roosters 97\n",
            "Now I will count the eggs:\n",
            "6.75\n",
            "Is it true that 3 + 2 < 5 -7?\n",
            "False\n",
            "What is 3 + 2? 5\n",
            "What is 5 - 7? -2\n",
            "Oh, that's why it's False.\n",
            "How About some more.\n",
            "Is is greater? True\n",
            "Is is greater or equal? True\n",
            "Is is less or equal? False\n"
          ]
        }
      ]
    },
    {
      "cell_type": "markdown",
      "source": [
        "# EXERCÍCIO 4 - Variáveis e Nomes"
      ],
      "metadata": {
        "id": "15VZV7hJBGwW"
      }
    },
    {
      "cell_type": "code",
      "source": [
        "cars = 100 #atribuindo um número inteiro\n",
        "spaceInACar = 4.0 #atrobuindo um número real\n",
        "drivers = 30 #atribuindo um número inteiro\n",
        "passengers = 90 #atribuindo um número inteiro\n",
        "carsNotDriven = cars - drivers #operação aritmética entre inteiro e inteiro\n",
        "carsDriven = drivers #atribuição de valor entre variáveos sem operação\n",
        "carpoolCapacity = carsDriven * spaceInACar #atribuindo o resultado de uma operação aritmética entre inteiro e real\n",
        "averagePassengersCar = passengers / carsDriven #atribuindo o resultado de uma operação aritmétcia entre inteiro e inteiro\n",
        "\n",
        "print(\"There are\", cars, \"cars avaliable.\")\n",
        "print(\"There are only\", drivers, \"drivers avaliable.\")\n",
        "print(\"There will be\", carsNotDriven, \"empty cars today.\")\n",
        "print(\"We can trasnport\", carpoolCapacity, \"people today.\")\n",
        "print(\"We have\", passengers, \"to carpool today.\")\n",
        "print(\"We need to put about\", averagePassengersCar, \"in each car.\")\n",
        "print(10/5)"
      ],
      "metadata": {
        "colab": {
          "base_uri": "https://localhost:8080/"
        },
        "id": "ZhVaF0stBUx2",
        "outputId": "9ec8977d-5158-4b98-a710-c4e4c26669e3"
      },
      "execution_count": null,
      "outputs": [
        {
          "output_type": "stream",
          "name": "stdout",
          "text": [
            "There are 100 cars avaliable.\n",
            "There are only 30 drivers avaliable.\n",
            "There will be 70 empty cars today.\n",
            "We can trasnport 120.0 people today.\n",
            "We have 90 to carpool today.\n",
            "We need to put about 3.0 in each car.\n",
            "2.0\n"
          ]
        }
      ]
    }
  ]
}