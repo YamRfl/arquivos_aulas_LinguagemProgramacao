{
  "nbformat": 4,
  "nbformat_minor": 0,
  "metadata": {
    "colab": {
      "provenance": [],
      "authorship_tag": "ABX9TyM5h1EDf5Sw4YnvRqOm9IjU",
      "include_colab_link": true
    },
    "kernelspec": {
      "name": "python3",
      "display_name": "Python 3"
    },
    "language_info": {
      "name": "python"
    }
  },
  "cells": [
    {
      "cell_type": "markdown",
      "metadata": {
        "id": "view-in-github",
        "colab_type": "text"
      },
      "source": [
        "<a href=\"https://colab.research.google.com/github/YamRfl/arquivos_aulas_LinguagemProgramacao/blob/main/Aula04_Fundamento.ipynb\" target=\"_parent\"><img src=\"https://colab.research.google.com/assets/colab-badge.svg\" alt=\"Open In Colab\"/></a>"
      ]
    },
    {
      "cell_type": "markdown",
      "source": [
        "## EXERCÍCIO 16 - Loops e Listas"
      ],
      "metadata": {
        "id": "l-MMCqgUGXjU"
      }
    },
    {
      "cell_type": "code",
      "source": [
        "from google.colab import drive\n",
        "drive.mount('/content/drive')"
      ],
      "metadata": {
        "id": "UYrGP13Srwxr"
      },
      "execution_count": null,
      "outputs": []
    },
    {
      "cell_type": "code",
      "source": [
        "the_count = [1, 2, 3, 4, 5] #cria lista de numeros\n",
        "fruits = ['apples', 'oranges', 'pears', 'apricots'] #cria lista de strings que devem estar entre aspas\n",
        "change = [1, 'pennies', 2, 'dimes', 3, 'quarters'] #aqui há números e strings. Os elementos de uma lista ficam entre [] e devem ser divididos por '' (aspas simples)\n",
        "\n",
        "for number in the_count: #comando for. Vai ser executado até atingir o número de itens da lista\n",
        "  print(f\"This is count {number}\")#exibe na tela cada número da lista\n",
        "\n",
        "for fruit in fruits:#comando for. Vai ser executado até atingir o número de itens da lista\n",
        "  print(f\"A fruit of type: {fruit}\")#exibe na tela cada fruta da lista\n",
        "\n",
        "for i in change: #comando for. Vai ser executado até atingir o número de itens da lista\n",
        "  print(f\"I got {i}\") #exibe na tela cada elemento da lista\n",
        "\n",
        "elements = [] #cria uma lista vazia\n",
        "\n",
        "for i in range (0,6):#repete o comando 6 vezes, iniciando em zero\n",
        "  print(f\"Adding {i} to the list.\") #exibe as iterações do for até (iniciadas em 0 e terminadas em 5)\n",
        "\n",
        "  elements.append(i) #adiciona elemento a lista elements. Cada novo elemento entra no fim da lista\n",
        "\n",
        "for i in elements: #comando for. Vai ser executado até atingir o número de itens da lista\n",
        "  print (f\"Element was: {i}\") #exibe na tela cada elemento da lista\n",
        "\n"
      ],
      "metadata": {
        "colab": {
          "base_uri": "https://localhost:8080/"
        },
        "id": "y40F95awGXbd",
        "outputId": "b1b10dd6-5f3e-494f-fdc6-238c835d3528"
      },
      "execution_count": null,
      "outputs": [
        {
          "output_type": "stream",
          "name": "stdout",
          "text": [
            "This is count 1\n",
            "This is count 2\n",
            "This is count 3\n",
            "This is count 4\n",
            "This is count 5\n",
            "A fruit of type: apples\n",
            "A fruit of type: oranges\n",
            "A fruit of type: pears\n",
            "A fruit of type: apricots\n",
            "I got 1\n",
            "I got pennies\n",
            "I got 2\n",
            "I got dimes\n",
            "I got 3\n",
            "I got quarters\n",
            "Adding 0 to the list.\n",
            "Adding 1 to the list.\n",
            "Adding 2 to the list.\n",
            "Adding 3 to the list.\n",
            "Adding 4 to the list.\n",
            "Adding 5 to the list.\n",
            "Element was: 0\n",
            "Element was: 1\n",
            "Element was: 2\n",
            "Element was: 3\n",
            "Element was: 4\n",
            "Element was: 5\n"
          ]
        }
      ]
    },
    {
      "cell_type": "markdown",
      "source": [
        "## EXERCÍCIO 17 - Loops While"
      ],
      "metadata": {
        "id": "5Ok4F-w6GXKc"
      }
    },
    {
      "cell_type": "code",
      "source": [
        "i = 0 #variável i recebe 0\n",
        "numbers = [] #cria a lista numbers vazia\n",
        "\n",
        "while i < 6: #função enquanto. inicia em o e vai rodar os comanos abaixo enquanto i foi menor que 6\n",
        "  print(f\"At the top i is {i}\") #imprime o valor de i\n",
        "  numbers.append(i) #acrescenta i a lista numbers\n",
        "\n",
        "  i = i + 1 #incrementa i em 1\n",
        "  print(f\"Numbers now: \", numbers) #exibe na tela os valores em numbers a cada incremento\n",
        "  print(f\"At the bottom i s {i}\")  # exibe o valor de i\n",
        "\n",
        "tfor num in numbers: #comando for. Vai ser executado até atingir o número de itens da lista\n",
        "  print(num) #exibe na tela cada numero da lista"
      ],
      "metadata": {
        "id": "YXlC7bt_GXCc",
        "colab": {
          "base_uri": "https://localhost:8080/"
        },
        "outputId": "8a55e092-b624-4605-f33b-483245383b27",
        "collapsed": true
      },
      "execution_count": null,
      "outputs": [
        {
          "output_type": "stream",
          "name": "stdout",
          "text": [
            "At the top i is 0\n",
            "Numbers now:  [0]\n",
            "At the bottom i s 1\n",
            "At the top i is 1\n",
            "Numbers now:  [0, 1]\n",
            "At the bottom i s 2\n",
            "At the top i is 2\n",
            "Numbers now:  [0, 1, 2]\n",
            "At the bottom i s 3\n",
            "At the top i is 3\n",
            "Numbers now:  [0, 1, 2, 3]\n",
            "At the bottom i s 4\n",
            "At the top i is 4\n",
            "Numbers now:  [0, 1, 2, 3, 4]\n",
            "At the bottom i s 5\n",
            "At the top i is 5\n",
            "Numbers now:  [0, 1, 2, 3, 4, 5]\n",
            "At the bottom i s 6\n",
            " The numbers: \n",
            "0\n",
            "1\n",
            "2\n",
            "3\n",
            "4\n",
            "5\n"
          ]
        }
      ]
    },
    {
      "cell_type": "markdown",
      "source": [
        "## EXERCÍCIO 18 - Nomes, Variáveis, Códigos, Funções"
      ],
      "metadata": {
        "id": "RmdzLuqYGlWk"
      }
    },
    {
      "cell_type": "code",
      "source": [
        "def print_two(*args): #define uma função para inserir vários argumentos em lista chamada print_two\n",
        "  arg1, arg2 = args #insere os argumentos\n",
        "  print(f\"arg1: {arg1}, arg2: {arg2}\") #imprime os argumentos\n",
        "\n",
        "def print_two_again(arg1, arg2): #define uma função para inserir dois argumentos em lista chamada print_two_again\n",
        "  print(f\"arg1: {arg1}, arg2: {arg2}\") #imprime os argumentos\n",
        "\n",
        "def print_one(arg1): #define uma função para inserir 1 argumento na lista chamada one\n",
        "  print(f\"arg1: {arg1}\") #imprime o argumento\n",
        "\n",
        "def print_none(): #define uma função sem argumentos\n",
        "  print(\"I got nothin'.\") #imprime a string\n",
        "\n",
        "print_two(\"Zed\", \"Shawn\") #atribui valores a lista errei ao nao colocar aspas duplas em cada string\n",
        "print_two_again(\"Zed\", \"Shawn\") #atrbui valores a lista\n",
        "print_one (\"First\") #atribui 1 valor a lista\n",
        "print_none() #atribui valor vazio a lista"
      ],
      "metadata": {
        "id": "tTi8fLE_Gn7s",
        "colab": {
          "base_uri": "https://localhost:8080/"
        },
        "outputId": "d4334eaa-51e6-4792-ca35-817c467bb1b4",
        "collapsed": true
      },
      "execution_count": null,
      "outputs": [
        {
          "output_type": "stream",
          "name": "stdout",
          "text": [
            "arg1: Zed, arg2: Shawn\n",
            "arg1: Zed, arg2: Shawn\n",
            "arg1: First\n",
            "I got nothin'.\n"
          ]
        }
      ]
    },
    {
      "cell_type": "markdown",
      "source": [
        "## EXERCÍCIO 19 - Funções e Variáveis"
      ],
      "metadata": {
        "id": "nNqw1tL-GwIk"
      }
    },
    {
      "cell_type": "code",
      "source": [],
      "metadata": {
        "id": "KF7ehszPGvmU"
      },
      "execution_count": null,
      "outputs": []
    },
    {
      "cell_type": "markdown",
      "source": [
        "## EXERCÍCIO 20 - As Funções podem retomar algo"
      ],
      "metadata": {
        "id": "my0W6DbXG3yc"
      }
    },
    {
      "cell_type": "code",
      "source": [
        "def cheese_and_crackers(cheese_count, boxes_of_crackers): #define uma função para inserir dois argumentos em lista\n",
        "  print(f\"You have {cheese_count} cheeses!\") #imprime string e o valor da variável\n",
        "  print(f\"You have {boxes_of_crackers} boxes_of_crackers!\") #imprime string e o valor da variável\n",
        "  print(\"Man that's enough for a party!\") #imprime string\n",
        "  print(\"Get a blanket.\\n\") #imprime string e pula uma linha\n",
        "\n",
        "\n",
        "print(\"We can give the function numbers directly:\") #imprime uma string\n",
        "cheese_and_crackers(20,30) #define 2 números como argumentos da função\n",
        "\n",
        "\n",
        "print (\"OR, we can use variables form our script:\") #imprime uma string\n",
        "amount_of_cheese = 10 #define uma variável que recebe um número\n",
        "amount_of_crackers = 50 #define uma variável que recebe um número\n",
        "\n",
        "cheese_and_crackers(amount_of_cheese, amount_of_crackers) #atribui variáveis como argumentos da função\n",
        "\n",
        "\n",
        "print(\"We can even do math inside too:\")\n",
        "cheese_and_crackers(10 + 20 , 5 + 6) #insere operacões matemáticas como argumentos da função\n",
        "\n",
        "\n",
        "print(\"And we can combine the two, variables and math:\") #imprime uma string\n",
        "cheese_and_crackers(amount_of_cheese + 100, amount_of_crackers + 1000) #atribui variável com operação matemática coomo argumento da função\n"
      ],
      "metadata": {
        "id": "Pqd97S1LG7rb",
        "colab": {
          "base_uri": "https://localhost:8080/"
        },
        "outputId": "82642760-caf0-41d1-ce03-9d1f012b80e4",
        "collapsed": true
      },
      "execution_count": null,
      "outputs": [
        {
          "output_type": "stream",
          "name": "stdout",
          "text": [
            "We can give the function numbers directly:\n",
            "You have 20 cheeses!\n",
            "You have 30 boxes_of_crackers!\n",
            "Man that's enough for a party!\n",
            "Get a blanket.\n",
            "\n",
            "OR, we can use variables form our script:\n",
            "You have 10 cheeses!\n",
            "You have 50 boxes_of_crackers!\n",
            "Man that's enough for a party!\n",
            "Get a blanket.\n",
            "\n",
            "We can even do math inside too:\n",
            "You have 30 cheeses!\n",
            "You have 11 boxes_of_crackers!\n",
            "Man that's enough for a party!\n",
            "Get a blanket.\n",
            "\n",
            "And we can combine the two, variables and math:\n",
            "You have 110 cheeses!\n",
            "You have 1050 boxes_of_crackers!\n",
            "Man that's enough for a party!\n",
            "Get a blanket.\n",
            "\n"
          ]
        }
      ]
    },
    {
      "cell_type": "markdown",
      "source": [
        "## EXERCÍCIO 21 - Parâmetros, Descompactação e Variáveis\n"
      ],
      "metadata": {
        "id": "3I8lzq1jBKUf"
      }
    },
    {
      "cell_type": "code",
      "source": [
        "from sys import argv #na Ide, deve se dar o comando python 'nome do arquivo.py' argumento1 argumento2 argumento3\n",
        "script, first, second, third = argv\n",
        "\n",
        "print(\"The scprit is called:\", script)\n",
        "print(\"Your first variable is:\", first)\n",
        "print(\"Your second variable is:\", second)\n",
        "print(\"Your third variable is:\", third)"
      ],
      "metadata": {
        "id": "gXMV4YSRAQwJ"
      },
      "execution_count": null,
      "outputs": []
    },
    {
      "cell_type": "markdown",
      "source": [
        "## EXERCÍCIO 22 - Parâmetros, Descompactação e Variáveis"
      ],
      "metadata": {
        "id": "fxr2HxQ_GVD8"
      }
    },
    {
      "cell_type": "code",
      "source": [
        "from sys import argv #na Ide, deve se dar o comando python 'nome do arquivo.py' argumento\n",
        "script, user_name = argv\n",
        "prompt = '> '\n",
        "\n",
        "print(f\"Hi {user_name}, I'm the {script} script.\")\n",
        "print(\"I'd like to ask you a few questions.\")\n",
        "print(f\"Do you like me {user_name}?\")\n",
        "likes = input(prompt)\n",
        "\n",
        "print(f\"Where dou you live {user_name}?\")\n",
        "lives = input(prompt)\n",
        "\n",
        "print(\"What kind of you computer do you have?\")\n",
        "computer = input(prompt)\n",
        "\n",
        "print(f\"\"\"\n",
        "      Alright, so you said {likes} about liking me.\n",
        "      You live in {lives}. Not sure where that is.\n",
        "      And you have a {computer} computer. Nice.\n",
        "                            \"\"\")"
      ],
      "metadata": {
        "id": "zE3xvbopGS3s"
      },
      "execution_count": null,
      "outputs": []
    }
  ]
}