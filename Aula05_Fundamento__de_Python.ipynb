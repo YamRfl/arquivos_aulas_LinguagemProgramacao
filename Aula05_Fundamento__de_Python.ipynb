{
  "nbformat": 4,
  "nbformat_minor": 0,
  "metadata": {
    "colab": {
      "provenance": [],
      "mount_file_id": "1Riejh9nCRxdrlJ2MnyX_PYz3x7IsglkD",
      "authorship_tag": "ABX9TyOd9wVCnbXwwW+FCmMLAgZJ",
      "include_colab_link": true
    },
    "kernelspec": {
      "name": "python3",
      "display_name": "Python 3"
    },
    "language_info": {
      "name": "python"
    }
  },
  "cells": [
    {
      "cell_type": "markdown",
      "metadata": {
        "id": "view-in-github",
        "colab_type": "text"
      },
      "source": [
        "<a href=\"https://colab.research.google.com/github/YamRfl/arquivos_aulas_LinguagemProgramacao/blob/main/Aula05_Fundamento__de_Python.ipynb\" target=\"_parent\"><img src=\"https://colab.research.google.com/assets/colab-badge.svg\" alt=\"Open In Colab\"/></a>"
      ]
    },
    {
      "cell_type": "code",
      "source": [],
      "metadata": {
        "id": "cdYeuSKrP31w"
      },
      "execution_count": null,
      "outputs": []
    },
    {
      "cell_type": "markdown",
      "source": [],
      "metadata": {
        "id": "De_iheJtsWES"
      }
    },
    {
      "cell_type": "markdown",
      "source": [
        "## EXERCÍCIO 23 - Lendo Arquivos"
      ],
      "metadata": {
        "id": "zCY2-4O_se93"
      }
    },
    {
      "cell_type": "code",
      "source": [
        "from sys import argv #importa função argv. Nota para executar digite o comando em linha de código python nome_do_arquivo 'caminho do arquivo'\n",
        "\n",
        "script, filename = argv\n",
        "txt = open(filename)\n",
        "\n",
        "print(f\"Here's your file {filename}:\") #imprime a frase e o caminho do arquivo\n",
        "print(txt.read())\n",
        "\n",
        "print(\"Type the filename again:\")\n",
        "file_again = input (\"> \") #digitar na linha de código o caminho do_arquivo sem aspas no cursor piscante\n",
        "\n",
        "txt_again = open(file_again) #lê a informação de caminho do arquivo\n",
        "\n",
        "print(txt_again.read()) #mostra na tela o caminho do arquivo salvo em txt_again lida com o método read"
      ],
      "metadata": {
        "id": "9RXZpnOwskfK"
      },
      "execution_count": null,
      "outputs": []
    },
    {
      "cell_type": "markdown",
      "source": [
        "##EXERCÍCIO 24 - Lendo e gravando arquivos"
      ],
      "metadata": {
        "id": "d4DJYeMsTJFA"
      }
    },
    {
      "cell_type": "code",
      "source": [
        "from sys import argv #importa função argv. Nota para executar digite o comando em linha de código python nome_do_arquivo 'caminho do arquivo'\n",
        "\n",
        "script, filename = argv\n",
        "\n",
        "print(f\"We're going to erase {filename}.\") #imprime a frase e o caminho do arquivo\n",
        "print(\"If you don't what that, hit CTRL-C (^C).\") #imprime a frase na tela\n",
        "print (\"If you do whant that, hit RETURN.\") #imprime a frase na tela\n",
        "\n",
        "input(\"?\") #entrada de dados com rótulo de ponto de interrogação\n",
        "\n",
        "print(\"Opening the file...\") #imprime a frase na tela\n",
        "target = open(filename, 'w') #abre o arquivo. o parâmetro w indica que é para a escrita\n",
        "\n",
        "print(\"Truncating the file, Goodbye!\") #imprime a a frase na tela\n",
        "target.truncate() #redimensiona o arquivo para um número de bits que no caso é zero, apagando o conteúdo do arquivo\n",
        "\n",
        "print(\"Now I'm going to ask you for three lines.\") #imprime a a frase na tela\n",
        "\n",
        "line1 = input(\"line1: \") #define a variável e abre input para inserir um valor\n",
        "line2 = input(\"line2: \") #define a variável e abre input para inserir um valor\n",
        "line3 = input(\"line3: \") #define a variável e abre input para inserir um valor\n",
        "\n",
        "print (\"I'm going to write these to the file.\") #imprime a frase na tela\n",
        "\n",
        "target.write(line1) #escreve no arquivo txt no containet target o valor inserido na variável line1\n",
        "target.write(\"\\n\") #pula uma linha no arquivo tex no container target\n",
        "target.write(line2) #escreve no arquivo txt no containet target o valor inserido na variável line2\n",
        "target.write(\"\\n\") #pula uma linha no arquivo tex no container target\n",
        "target.write(line3) #escreve no arquivo txt no containet target o valor inserido na variável line3\n",
        "target.write(\"\\n\") #pula uma linha no arquivo tex no container target\n",
        "\n",
        "print(\"And finally, we close it.\") #imprime a frase na tela\n",
        "target.closed #fecha o arquivo"
      ],
      "metadata": {
        "id": "kVbYDTpFTiSO"
      },
      "execution_count": null,
      "outputs": []
    },
    {
      "cell_type": "markdown",
      "source": [
        "##Exercício 25 - Mais Arquivos"
      ],
      "metadata": {
        "id": "nJyQOIkIl63g"
      }
    },
    {
      "cell_type": "code",
      "source": [
        "from sys import argv #importa função argv\n",
        "from os.path import exists #importa função os.path\n",
        "\n",
        "script, from_file, to_file = argv #atribui script e variáveis ao argv\n",
        "\n",
        "print(f\"Copying from {from_file} to {to_file}\") #imprime frase com variáveis assumindo o valor nas chaves\n",
        "\n",
        "#indata = open(from_file.read()) #esta é a outra maneira de chegar ao mesmo resultado dos comandos das linhas 8 e 9\n",
        "in_file = open(from_file) #abre o arquivo e atribui à variável in_file\n",
        "indata = in_file.read() #lê o arquivo e atribui à variável indata\n",
        "\n",
        "print(f\"The input file is {len(indata)} bytes long\") #imprime a frase substituindo as frases pelo tamanho do arquivo obtido pela função lens\n",
        "\n",
        "print(f\"Does the outpu file exist? {exists(to_file)}\") #imprime frase e chama a função exists\n",
        "print (\"Ready, hit RETURN to continue, CTRL-C do abort.\") #imprime frase\n",
        "input() #abre entrada de dados para o usuário\n",
        "\n",
        "out_file = open(to_file, 'w') #abre arquivo com função de escrita e atribui à variável out_file\n",
        "out_file.write(indata) #escreve o contepudi de indata em out_file\n",
        "\n",
        "print(\"Alright, all done.\")\n",
        "\n",
        "out_file.close() #fecha out_file\n",
        "in_file.close() #fecha in_file"
      ],
      "metadata": {
        "id": "yUlxck_urw-D"
      },
      "execution_count": null,
      "outputs": []
    },
    {
      "cell_type": "markdown",
      "source": [
        "##Exercício 26 - Funções e algoritmos\n"
      ],
      "metadata": {
        "id": "BqzPXSXelbdm"
      }
    },
    {
      "cell_type": "code",
      "source": [
        "from sys import argv #importa função argv\n",
        "\n",
        "script, input_file = argv #define o script a ser excutado e define variável\n",
        "\n",
        "def print_all(f): #Define uma função para ler e imprimir todo o conteúdo de um arquivo\n",
        "    print(f.read()) #Imprime todo o conteudo lendo pelo meteodo read\n",
        "\n",
        "def rewind(f): #Define uma função para voltar ao inicio do arquivo\n",
        "    f.seek(0) #Coloca o curso no inicio da linha (posicao 0)\n",
        "\n",
        "def print_a_line(line_count, f): #define uma função para impirime a linha do arquivo e seu número (indice da linha)\n",
        "    print(line_count, f.readline())\n",
        "\n",
        "current_file = open(input_file) #abre o arquivo digitado e atribui a para a variável current file\n",
        "\n",
        "print(\"First let's print the whole file:\\n\") #Imprime o texto e pula uma linha\n",
        "\n",
        "print_all(current_file) #chama a função que imprime todo o conteúdo e imprime o que tem na varíaveç\n",
        "\n",
        "print(\"Now let's rewind, kind of like a tape.\") #imprime a frase\n",
        "\n",
        "rewind(current_file) #chama a funçao e executa para ir ao inicio do arquivo na posição 0 do cursor\n",
        "\n",
        "print(\"Let's print three lines:\") #imprime a frase\n",
        "\n",
        "current_line = 1 #atribui 1 a varíável\n",
        "print_a_line(current_line, current_file) #chama a função para imprimir a linha 1 com número da linha que foi atribuida na variável\n",
        "\n",
        "current_line = current_line + 1 #incrementa a variável em 1 (vira 2)\n",
        "print_a_line(current_line, current_file) #imprime a linha 2 com índice\n",
        "\n",
        "current_line = current_line + 1 #incrementa a variável em 1 (vira 3)\n",
        "print_a_line(current_line, current_file) #imprime a linha 3 com índice"
      ],
      "metadata": {
        "id": "tVoDNzO3k2Fp"
      },
      "execution_count": null,
      "outputs": []
    },
    {
      "cell_type": "markdown",
      "source": [
        "##Exercício 27 - Mais prática"
      ],
      "metadata": {
        "id": "AMgpv2vky_Fa"
      }
    },
    {
      "cell_type": "code",
      "source": [
        "print(\"Let's practice everything,\") #imprime na tela Nota. O texto abaixo explica alguns comandos\n",
        "print(\"You\\'d need to know \\'bout escapes with \\\\ that do:\") #imprime na tela\n",
        "print (\"\\n newlines and \\t tabs.\")\n",
        "#abrir e fecha aspas para permitir a quebra de texto em varias linhas\n",
        "poem = \"\"\"\n",
        "\\tThe lovely world\n",
        "with logic so firmly planted\n",
        "cannot discern \\n the needs of love\n",
        "nor comprehend passion from intuition\n",
        "and requires an explanation\n",
        "\\n\\ttwhere there is none.\n",
        "\"\"\" #variável poem recebe o texto\n",
        "\n",
        "print(\"--------------\") #imprime o elemento visual entre aspas\n",
        "print(poem) #imprime a variáel poem\n",
        "print(\"--------------\") #imprime o elemento visual entre aspas\n",
        "\n",
        "five = 10 -2 + 3 -6 #variável recebe o resultado da operação matemática\n",
        "print(f\"This should be five: {five}\") #imprime a string e o valar do conteúdo da variável no lugar das chaves\n",
        "\n",
        "def secret_formula(started): #define uma função personalizada\n",
        "    jelly_beans = started * 500 #esta e as duas proximas linhas realizam operações matematicas\n",
        "    jars = jelly_beans / 1000\n",
        "    crates = jars / 100\n",
        "    return jelly_beans, jars, crates #executa a funçao\n",
        "\n",
        "start_point = 10000 #variavel recee um valor\n",
        "beans, jars, crates = secret_formula(start_point)\n",
        "\n",
        "#´lembre-se que essa é uma outra maneira de formatar uma string\n",
        "print(\"With a starting point of: {}\". format(start_point))\n",
        "# é como usar a string f\"\"\n",
        "print(f\"We'd have {beans} beans {jars} jars, and {crates} crates.\")\n",
        "\n",
        "start_point = start_point / 10 #operação matemática\n",
        "\n",
        "print(\"We can also do that this way:\") #imprime string\n",
        "formula = secret_formula(start_point)\n",
        "# essa é uma maneira fácil de aplicar uma lista a uma string de formatação\n",
        "print(\"We'd have {} beans {} jars, {} and crates.\".format(*formula))"
      ],
      "metadata": {
        "id": "K1m46oxvI0nL"
      },
      "execution_count": null,
      "outputs": []
    },
    {
      "cell_type": "markdown",
      "source": [
        "##Exercício 28 - Desvios e funções"
      ],
      "metadata": {
        "id": "3tCbGLHmzHUJ"
      }
    },
    {
      "cell_type": "code",
      "source": [
        "from sys import exit #importa função exit\n",
        "\n",
        "def sala_do_ouro(): #define função que imprime 2 strings abaixo\n",
        "    print(\"Esta sala está cheia de ouro. Quanto você pega?\")\n",
        "    print(\"Digite um número.\")\n",
        "\n",
        "    escolha = input(\"> \") #variável recebe um dado digitado pelo usuario\n",
        "    if \"0\" in escolha or \"1\" in escolha: #testa condição\n",
        "        quanto = int(escolha) #retorna um inteiro para o numero e guarda na variável\n",
        "    else: #então. Cumprida a condição deve ser feito o que vem a seguir\n",
        "        morrer(\"Cara, aprenda a digitar um número.\")\n",
        "\n",
        "    if quanto < 50:\n",
        "        print(\"Legal, você não é ganancioso, você venceu!\")\n",
        "        exit(0)\n",
        "    else:\n",
        "        morrer(\"Seu ganancioso\")\n",
        "\n",
        "\n",
        "def sala_do_urso(): #define função que imprime as strings abaixo\n",
        "    print(\"Há um urso aqui.\")\n",
        "    print(\"O urso tem um monte de mel.\")\n",
        "    print(\"O urso fortão está na frente de outra porta.\")\n",
        "    print(\"O que você faz?\")\n",
        "    print(\"Opões: 'pegar mel', 'provocar urso'.\")\n",
        "    urso_movido = False\n",
        "\n",
        "    while True:\n",
        "        escolha = input(\"> \") #variável recebe um dado digitado pelo usuario\n",
        "\n",
        "        if escolha == \"pegar mel\":\n",
        "            morrer (\"O urso olha para você e arranca sua cara com uma patada.\")\n",
        "        elif escolha == \"provocar urso\" and not urso_movido:\n",
        "            print(\"O urso se moveu da porta.\")\n",
        "            print(\"Você pode 'abrir porta' agora.\")\n",
        "            urso_movido = True\n",
        "        elif escolha == \"provocar urso\" and urso_movido:\n",
        "            morrer(\"O urso fica outo e arranca sua perna.\")\n",
        "        elif escolha == \"abrir porta\" and urso_movido:\n",
        "            sala_do_ouro()\n",
        "        else:\n",
        "            print(\"Não entendi sua escolha. Tente novamente.\")\n",
        "\n",
        "\n",
        "def sala_de_cthulhu():\n",
        "    print(\"Aqui você vê o grande mal, Cthulhu.\")\n",
        "    print(\"Ele, isso, seja lá o que for, olha para você e você enlouquece.\")\n",
        "    print(\"O que você faz?\")\n",
        "    print(\"Opções: 'foge', 'cabeça'.\")\n",
        "\n",
        "    escolha = input(\"> \")\n",
        "\n",
        "    if  \"foge\" in escolha:\n",
        "        comecar()\n",
        "    elif \"cabeça\" in escolha:\n",
        "        morrer(\"Bem, isso foi gostoso!\")\n",
        "    else:\n",
        "        sala_de_cthulhu()\n",
        "\n",
        "\n",
        "def morrer(porque):\n",
        "    print(porque, \"Bom trabalho!\")\n",
        "    return \"The game in over\"\n",
        "\n",
        "def comecar():\n",
        "    print(\"Você está em um sala escura.\")\n",
        "    print(\"Há uma porta à sua direita e à sua esquerda.\")\n",
        "    print(\"Qual você pega?\")\n",
        "    print(\"Opções: 'esquerda', 'direita'.\")\n",
        "\n",
        "    escolha = input(\"> \")\n",
        "\n",
        "    if escolha == \"esquerda\":\n",
        "        sala_do_urso()\n",
        "    elif escolha == \"direita\":\n",
        "        sala_de_cthulhu()\n",
        "    else:\n",
        "        morrer(\"Você tropeça pela sala até morrer de fome.\")\n",
        "\n",
        "\n",
        "comecar()\n"
      ],
      "metadata": {
        "colab": {
          "base_uri": "https://localhost:8080/",
          "height": 436
        },
        "id": "qlfzaLl7d-2b",
        "outputId": "a2f63765-280c-4769-942d-35da0c277b98"
      },
      "execution_count": null,
      "outputs": [
        {
          "output_type": "stream",
          "name": "stdout",
          "text": [
            "Você está em um sala escura.\n",
            "Há uma porta à sua direita e à sua esquerda.\n",
            "Qual você pega?\n",
            "Opções: 'esquerda', 'direita'.\n",
            "> esquerda\n",
            "Há um urso aqui.\n",
            "O urso tem um monte de mel.\n",
            "O urso fordao está na frente de outra porta.\n",
            "O que você faz?\n",
            "Opões: 'pegar mel', 'provocar urso'.\n",
            "> provocar urso\n",
            "O urso se moveu da porta.\n",
            "Você pode 'abrir porta' agora.\n",
            "> abrir porta\n",
            "Esta sala está cheia de ouro. Quanto você pega?\n",
            "Digite um número.\n",
            "> 1\n",
            "Legal, você não é ganancioso, você venceu!\n"
          ]
        },
        {
          "output_type": "error",
          "ename": "SystemExit",
          "evalue": "0",
          "traceback": [
            "An exception has occurred, use %tb to see the full traceback.\n",
            "\u001b[0;31mSystemExit\u001b[0m\u001b[0;31m:\u001b[0m 0\n"
          ]
        },
        {
          "output_type": "stream",
          "name": "stderr",
          "text": [
            "/usr/local/lib/python3.11/dist-packages/IPython/core/interactiveshell.py:3561: UserWarning: To exit: use 'exit', 'quit', or Ctrl-D.\n",
            "  warn(\"To exit: use 'exit', 'quit', or Ctrl-D.\", stacklevel=1)\n"
          ]
        }
      ]
    },
    {
      "cell_type": "markdown",
      "source": [],
      "metadata": {
        "id": "GQdygn9Ys8nM"
      }
    },
    {
      "cell_type": "markdown",
      "source": [],
      "metadata": {
        "id": "ehnAo10Gk1pp"
      }
    }
  ]
}