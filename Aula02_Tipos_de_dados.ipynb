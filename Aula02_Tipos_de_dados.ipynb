{
  "nbformat": 4,
  "nbformat_minor": 0,
  "metadata": {
    "colab": {
      "provenance": [],
      "authorship_tag": "ABX9TyP4Nupb33hrYwS/ICBIVWmH",
      "include_colab_link": true
    },
    "kernelspec": {
      "name": "python3",
      "display_name": "Python 3"
    },
    "language_info": {
      "name": "python"
    }
  },
  "cells": [
    {
      "cell_type": "markdown",
      "metadata": {
        "id": "view-in-github",
        "colab_type": "text"
      },
      "source": [
        "<a href=\"https://colab.research.google.com/github/YamRfl/arquivos_aulas_LinguagemProgramacao/blob/main/Aula02_Tipos_de_dados.ipynb\" target=\"_parent\"><img src=\"https://colab.research.google.com/assets/colab-badge.svg\" alt=\"Open In Colab\"/></a>"
      ]
    },
    {
      "cell_type": "markdown",
      "source": [
        "## EXERCÍCIO 5 - Mais Variáveis e Impressão\n",
        "Concatenação de varíaveis mais texto, uma forma de usar a saída de dados com variáveis;"
      ],
      "metadata": {
        "id": "3I8lzq1jBKUf"
      }
    },
    {
      "cell_type": "code",
      "source": [
        "Name = \"Zed A. Shaw\" #Variável Name recebe uma string\n",
        "Age = 35 #no meu caso é mentira\n",
        "Height = 74 #polegadas\n",
        "Weight = 180 # libras\n",
        "Eyes = 'Blue' #Variável recebe a string blue\n",
        "Teeth = 'White' #Variável recebe a string white\n",
        "Hair = 'Brown' #Variável recebe a string brown\n",
        "\n",
        "print(f\"Let's talk about {Name}.\") #print(f), permite incorporar expressões dentro de literais de string, usando chaves. A linha imprime a frase entre aspas duplas e o valor da string Name\n",
        "print(f\"He's {Height} inches tall.\") # imprime frase entre aspas duplas e valor da varíavel entre chaves\n",
        "print(f\"He's {Weight} pounds heavy.\") # imprime frase entre aspas duplas e valor da varíavel entre chaves\n",
        "print(f\"Actually that1s noto too heavy\") # imprime frase entre aspas duplas\n",
        "print(f\"He's got {Eyes} eyes and {Hair} hair.\") # imprime frase entre aspas duplas e valor da varíavel entre chaves\n",
        "print(f\"His teeth are usually {Teeth} depending on the coffe \") # imprime frase entre aspas duplas e valor da varíavel entre chaves\n",
        "\n",
        "#essa linha capciosa\n",
        "total = Age + Height + Weight\n",
        "print(f\"If I add {Age}, {Height} and my {Weight} I get {total}.\")"
      ],
      "metadata": {
        "colab": {
          "base_uri": "https://localhost:8080/"
        },
        "id": "9WPRaLUwCWpb",
        "outputId": "92c15243-a980-4974-a9d6-44de883691e5"
      },
      "execution_count": null,
      "outputs": [
        {
          "output_type": "stream",
          "name": "stdout",
          "text": [
            "Let's talk about Zed A. Shaw.\n",
            "He's 74 inches tall.\n",
            "He's 180 pounds heavy.\n",
            "Actually that1s noto too heavy\n",
            "He's got Blue eyes and Brown hair.\n",
            "His teeth are usually White depending on the coffe \n",
            "If I add 35, 74 and my 180 I get 289.\n"
          ]
        }
      ]
    },
    {
      "cell_type": "markdown",
      "source": [
        "##EXERCÍCIO 6 - Strings e Texto\n",
        "Algumas variáveis, um pouco, complexas e um pouco de trabalho com Strings dentro de Strings;"
      ],
      "metadata": {
        "id": "mfPU_lK2QwvE"
      }
    },
    {
      "cell_type": "code",
      "source": [
        "#atribuição de inteiro em variável\n",
        "type_of_people = 10\n",
        "#atribuição de string com variável embutida\n",
        "x = f\"There are {type_of_people} type of people.\"\n",
        "#atribuição de valor textual a uma variável\n",
        "binary = \"binary\"\n",
        "#atribuição de valor textual a uma variável\n",
        "do_not = \"don't\"\n",
        "#atribuição de string com variável embutida\n",
        "y = f\"Those who know {binary} and those who {do_not}\"\n",
        "\n",
        "print(x) #imprime o valor da variável\n",
        "print(y) #imprime o valor da variável\n",
        "\n",
        "print (f\"I' said: {x}\") #imprime um texto com uma variável embutida\n",
        "print (f\"I also said: '{y}'\") #imprime um texto com uma variável embutida\n",
        "\n",
        "hilarious = False #criação de variável com valor booleano\n",
        "joke_evaluetion = \"Ins't that joke so funny?! {}\" ##criação de variável com texto e espaço para embutir uma variável sem definí-la\n",
        "\n",
        "print(joke_evaluetion.format(hilarious)) # uma forma de imprimir a variável textual com uma variáqvel embutida, que eu posso escolher\n",
        "\n",
        "w = \"This is left side of... \" #criação de variável om valor textual\n",
        "e = \"a string with a right side.\" #criação de variável om valor textual\n",
        "\n",
        "print(w+e) #concatena os valores textuais armazenado nas variáveis"
      ],
      "metadata": {
        "id": "30VXX4q-ZQsH",
        "colab": {
          "base_uri": "https://localhost:8080/"
        },
        "outputId": "1df3fe94-6aba-4641-a7e7-4953211ec15e"
      },
      "execution_count": null,
      "outputs": [
        {
          "output_type": "stream",
          "name": "stdout",
          "text": [
            "There are 10 type of people.\n",
            "Those who know binary and those who don't\n",
            "I' said: There are 10 type of people.\n",
            "I also said: 'Those who know binary and those who don't'\n",
            "Ins't that joke so funny?! False\n",
            "This is left side of... a string with a right side.\n"
          ]
        }
      ]
    },
    {
      "cell_type": "markdown",
      "source": [
        "## EXERCÍCIO 7 - Mais Impressão\n",
        "Apenas para praticar a digitação e alguns conceitos sobre impressão de strings"
      ],
      "metadata": {
        "id": "WDVCGfV1NJML"
      }
    },
    {
      "cell_type": "code",
      "source": [
        "print(\"Mary had a little lamb.\") #imprime um texto fixo\n",
        "print(\"Its fleece was  white as {}.\".format('snow')) #imprime um texto com espaço para mudar algo\n",
        "print(\"And everywhere that Mary went.\") #imprime um texto fixo\n",
        "print(\".\"*10) #what'd that do? imprime o ponto 10 vezes\n",
        "\n",
        "end1 = \"C\" #armazena dados textuais em variáveis\n",
        "end2 = \"h\"\n",
        "end3 = \"e\"\n",
        "end4 = \"e\"\n",
        "end5 = \"s\"\n",
        "end6 = \"e\"\n",
        "end7 = \"B\"\n",
        "end8 = \"u\"\n",
        "end9 = \"r\"\n",
        "end10 = \"g\"\n",
        "end11 = \"e\"\n",
        "end12 = \"r\"\n",
        "\n",
        "#Olhe aquela vírgula no fim. tente removê-la para ver o que acontece ao retirar a vírgula dá erro de sintaxe\n",
        "print(end1 + end2 + end3 + end4 + end5 + end6, end=\"\") # concatena os valores das variáveis e o final permite que junte com a próxima linha\n",
        "print(end7 + end8 + end9 + end10 + end11 + end12) # imprimir sem quebra de linha"
      ],
      "metadata": {
        "colab": {
          "base_uri": "https://localhost:8080/"
        },
        "id": "teU5dc-UNpUp",
        "outputId": "bb5be15b-9a3e-4c35-92c5-82fd3abdb2d3"
      },
      "execution_count": null,
      "outputs": [
        {
          "output_type": "stream",
          "name": "stdout",
          "text": [
            "Mary had a little lamb.\n",
            "Its fleece was  white as snow.\n",
            "And everywhere that Mary went.\n",
            "..........\n",
            "CheeseBurger\n"
          ]
        }
      ]
    },
    {
      "cell_type": "markdown",
      "source": [
        "## EXERCÍCIO 8 - Imprimindo, Imprimindo\n",
        "Formatação de strings de forma mais complexa\n"
      ],
      "metadata": {
        "id": "7767p-9-Sm4O"
      }
    },
    {
      "cell_type": "code",
      "source": [
        "formatter = \"{} {} {} {}\"\n",
        "\n",
        "print(formatter.format(1, 2, 3, 4)) # imprime a lista no formato definido na declaração\n",
        "print(formatter.format(\"one\", \"two\", \"three\", \"four\")) # imprime a lista no formato definido na declaração\n",
        "print(formatter.format(True, False, False, True)) # imprime a lista no formato definido na declaração\n",
        "print(formatter.format(formatter,formatter, formatter, formatter)) # imprime a string no formato definido na declaração\n",
        "print(formatter. format(\n",
        "    \"Try you\",\n",
        "    \"Own text here\",\n",
        "    \"Maybe a poem\",\n",
        "    \"Or a song about fear\")) # imprime a lista no formato definido na declaração. foi feita uma qebra na linha 7 para facilitar a leitura. A vírgula concatena os textos\n",
        "\n"
      ],
      "metadata": {
        "colab": {
          "base_uri": "https://localhost:8080/"
        },
        "id": "SuUb2IebSxQw",
        "outputId": "47a7cd8c-7239-4148-a6c2-e7c72ed4348e"
      },
      "execution_count": null,
      "outputs": [
        {
          "output_type": "stream",
          "name": "stdout",
          "text": [
            "1 2 3 4\n",
            "one two three four\n",
            "True False False True\n",
            "{} {} {} {} {} {} {} {} {} {} {} {} {} {} {} {}\n",
            "Try you Own text here Maybe a poem Or a song about fear\n"
          ]
        }
      ]
    },
    {
      "cell_type": "code",
      "source": [],
      "metadata": {
        "id": "_RptUFWWVnBZ"
      },
      "execution_count": null,
      "outputs": []
    }
  ]
}